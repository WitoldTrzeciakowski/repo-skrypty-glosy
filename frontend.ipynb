{
 "cells": [
  {
   "cell_type": "markdown",
   "metadata": {},
   "source": [
    "# Audio Classifier Application\n",
    "\n",
    "This notebook contains the implementation of an audio recording and classification application with a graphical interface.\n",
    "\n",
    "## Library Imports"
   ]
  },
  {
   "cell_type": "code",
   "execution_count": null,
   "metadata": {},
   "outputs": [],
   "source": [
    "import os\n",
    "import sounddevice as sd\n",
    "from scipy.io.wavfile import write\n",
    "import wavio as wv\n",
    "from tkinter import Tk, Label, Button, filedialog\n",
    "from test import process_file, model_df, df_state\n",
    "import numpy as np"
   ]
  },
  {
   "cell_type": "markdown",
   "metadata": {},
   "source": [
    "## Basic Parameters Configuration"
   ]
  },
  {
   "cell_type": "code",
   "execution_count": null,
   "metadata": {},
   "outputs": [],
   "source": [
    "# Sampling frequency and recording duration\n",
    "freq = 44100  # 44.1kHz\n",
    "duration = 5  # Record for 5 seconds"
   ]
  },
  {
   "cell_type": "markdown",
   "metadata": {},
   "source": [
    "## AudioRecorder Class\n",
    "\n",
    "The `AudioRecorder` class handles audio recording functionality."
   ]
  },
  {
   "cell_type": "code",
   "execution_count": null,
   "metadata": {},
   "outputs": [],
   "source": [
    "class AudioRecorder:\n",
    "    def __init__(self, duration=5, rate=44100, channels=1):\n",
    "        self.duration = duration\n",
    "        self.rate = rate\n",
    "        self.channels = channels\n",
    "        self.recording = None\n",
    "\n",
    "    def start_recording(self):\n",
    "        \"\"\"Start recording audio.\"\"\"\n",
    "        self.recording = sd.rec(int(self.duration * self.rate),\n",
    "                                samplerate=self.rate,\n",
    "                                channels=self.channels)\n",
    "        print(\"Recording started...\")\n",
    "\n",
    "    def stop_recording(self, file_path):\n",
    "        \"\"\"Stop recording and save the audio to a file.\"\"\"\n",
    "        sd.wait() \n",
    "        print(\"Recording finished.\")\n",
    "        absolute_file_path = os.path.abspath(file_path)\n",
    "        scaled_recording = np.int16(self.recording * 32767)  \n",
    "        write(absolute_file_path, self.rate, scaled_recording)\n",
    "        wv.write(absolute_file_path.replace(\".wav\", \"_wavio.wav\"), scaled_recording, self.rate, sampwidth=2)\n",
    "        print(f\"Recording saved to {absolute_file_path}.\")\n",
    "\n",
    "        return absolute_file_path\n",
    "\n",
    "    def get_recording(self):\n",
    "        return self.recording\n",
    "\n",
    "# Create an instance of AudioRecorder\n",
    "recorder = AudioRecorder()\n"
   ]
  },
  {
   "cell_type": "markdown",
   "metadata": {},
   "source": [
    "## Recording and Processing Functions"
   ]
  },
  {
   "cell_type": "code",
   "execution_count": null,
   "metadata": {},
   "outputs": [],
   "source": []
  },
  {
   "cell_type": "code",
   "execution_count": null,
   "metadata": {},
   "outputs": [],
   "source": [
    "def start_record():\n",
    "    recorder.start_recording()\n",
    "\n",
    "def stop_and_save():\n",
    "    \"\"\"Stop recording and save the file.\"\"\"\n",
    "    output_file = \"recorded_audio.wav\"\n",
    "    output_file = recorder.stop_recording(output_file)\n",
    "    result_label.config(text=f\"Audio saved to {output_file}. Ready for processing.\", fg=\"blue\")\n",
    "    return output_file\n",
    "\n",
    "def process_saved_file():\n",
    "    \"\"\"Process the saved audio file.\"\"\"\n",
    "    output_file = \"recorded_audio.wav\"\n",
    "    if os.path.exists(output_file):\n",
    "        process_and_display_result(output_file)\n",
    "    else:\n",
    "        result_label.config(text=\"No recorded file to process.\", fg=\"red\")\n",
    "\n",
    "def process_and_display_result(file_path):\n",
    "    \"\"\"Process the audio file and display the result.\"\"\"\n",
    "    print(\"Processing the recorded audio...\")\n",
    "    result = process_file(file_path, model_df, df_state)\n",
    "\n",
    "    if result:\n",
    "        result_label.config(text=\"The audio is classified as GOOD.\", fg=\"green\")\n",
    "    else:\n",
    "        result_label.config(text=\"The audio is classified as BAD.\", fg=\"red\")\n",
    "\n",
    "def select_and_process():\n",
    "    \"\"\"Select an audio file and process it.\"\"\"\n",
    "    file_path = filedialog.askopenfilename(filetypes=[[\"WAV files\", \"*.wav\"]])\n",
    "    if file_path:\n",
    "        absolute_file_path = os.path.abspath(file_path)\n",
    "        process_and_display_result(absolute_file_path)\n",
    "    print(\"FINISHED\")\n"
   ]
  },
  {
   "cell_type": "markdown",
   "metadata": {},
   "source": [
    "## Graphical User Interface (GUI)"
   ]
  },
  {
   "cell_type": "code",
   "execution_count": null,
   "metadata": {},
   "outputs": [],
   "source": [
    "root = Tk()\n",
    "root.title(\"Audio Classifier\")\n",
    "\n",
    "Label(root, text=\"Audio Classification Tool\", font=(\"Arial\", 16)).pack(pady=10)\n",
    "\n",
    "start_button = Button(root, text=\"Start Recording\", font=(\"Arial\", 14), command=start_record)\n",
    "start_button.pack(pady=5)\n",
    "\n",
    "stop_button = Button(root, text=\"Stop Recording\", font=(\"Arial\", 14), command=stop_and_save)\n",
    "stop_button.pack(pady=5)\n",
    "\n",
    "classify_button = Button(root, text=\"Classify Recording\", font=(\"Arial\", 14), command=process_saved_file)\n",
    "classify_button.pack(pady=5)\n",
    "\n",
    "select_button = Button(root, text=\"Select and Classify\", font=(\"Arial\", 14), command=select_and_process)\n",
    "select_button.pack(pady=5)\n",
    "\n",
    "result_label = Label(root, text=\"\", font=(\"Arial\", 14))\n",
    "result_label.pack(pady=10)\n",
    "\n",
    "root.mainloop()"
   ]
  },
  {
   "cell_type": "markdown",
   "metadata": {},
   "source": [
    "## Usage Instructions\n",
    "\n",
    "1. Run the application by executing all notebook cells\n",
    "2. Click \"Start Recording\" to begin audio recording\n",
    "3. Click \"Stop Recording\" to finish recording and save the file\n",
    "4. Use \"Classify Recording\" to classify the recorded audio\n",
    "5. Alternatively, use \"Select and Classify\" to choose an existing WAV file for classification\n",
    "\n",
    "## Notes\n",
    "- Required libraries: `sounddevice`, `scipy`, `wavio`, `tkinter`\n",
    "- Default recording duration is 5 seconds\n",
    "- Files are saved in WAV format\n",
    "- Classification returns either \"GOOD\" or \"BAD\" result"
   ]
  }
 ],
 "metadata": {
  "kernelspec": {
   "display_name": "myenv",
   "language": "python",
   "name": "python3"
  },
  "language_info": {
   "codemirror_mode": {
    "name": "ipython",
    "version": 3
   },
   "file_extension": ".py",
   "mimetype": "text/x-python",
   "name": "python",
   "nbconvert_exporter": "python",
   "pygments_lexer": "ipython3",
   "version": "3.12.3"
  }
 },
 "nbformat": 4,
 "nbformat_minor": 2
}
